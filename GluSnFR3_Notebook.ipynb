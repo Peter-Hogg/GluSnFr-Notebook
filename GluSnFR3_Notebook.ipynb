{
 "cells": [
  {
   "cell_type": "code",
   "execution_count": null,
   "metadata": {},
   "outputs": [],
   "source": [
    "import numpy as np\n",
    "import numpy.ma as ma\n",
    "import matplotlib.pyplot as plt\n",
    "import tifffile\n",
    "import napari\n",
    "\n",
    "from matplotlib import cm\n",
    "from matplotlib.colors import ListedColormap, LinearSegmentedColormap\n",
    "from matplotlib_scalebar import scalebar as sb\n",
    "from pyneurotrace import filters as pnf\n",
    "from pyneurotrace import notebook as pnb\n",
    "from tqdm.notebook import trange, tqdm\n",
    "from skimage import data, draw\n",
    "from skimage.restoration import denoise_tv_chambolle\n",
    "from skimage.registration import phase_cross_correlation\n",
    "import skimage.measure as measure\n",
    "from scipy import ndimage as ndi\n",
    "\n"
   ]
  },
  {
   "cell_type": "code",
   "execution_count": null,
   "metadata": {},
   "outputs": [],
   "source": [
    "%gui qt5\n",
    "plt.rcParams['figure.facecolor'] = 'white'"
   ]
  },
  {
   "cell_type": "code",
   "execution_count": null,
   "metadata": {},
   "outputs": [],
   "source": [
    "# Change output figure size\n",
    "# ...needs to be in its own cell for some reason...\n",
    "\n",
    "plt.rcParams['figure.figsize'] = [16, 10]"
   ]
  },
  {
   "cell_type": "code",
   "execution_count": null,
   "metadata": {},
   "outputs": [],
   "source": [
    "def returnStimList(file):\n",
    "    stim_csv = np.loadtxt(open(file), delimiter=',')\n",
    "    print(stim_csv[0,:])\n",
    "    stim_list = []\n",
    "    seconds = np.array([3600, 60, 1])\n",
    "    for i in range(1, stim_csv.shape[0], 1):\n",
    "        temp= (stim_csv[i,3:] - stim_csv[0,3:])\n",
    "        stim_list.append(np.sum(temp*seconds))\n",
    "    return stim_list\n",
    "\n",
    "# Returns change in fluorescence over average fluorescence of ROI\n",
    "\n",
    "def returnROITrace(video, mask):\n",
    "    video_mask = video * mask\n",
    "    video_mask[video_mask==0] = np.nan\n",
    "    trace = np.zeros(video.shape[0])\n",
    "    for i in range(video_mask.shape[0]):\n",
    "        roi_avg = np.nanmean(video_mask[i, :, :])\n",
    "        if np.isnan(roi_avg)==False:\n",
    "            trace[i]= roi_avg\n",
    "            lastNonNan = roi_avg\n",
    "        else:\n",
    "            trace[i]=lastNonNan\n",
    "    return trace\n",
    "\n",
    "# Offset correction\n",
    "def returnOffsetCorr(movie):\n",
    "    if np.min(movie)<0:\n",
    "        movie = movie - np.min(movie)\n",
    "    return movie\n",
    "\n",
    "\n"
   ]
  },
  {
   "cell_type": "code",
   "execution_count": null,
   "metadata": {},
   "outputs": [],
   "source": [
    "# CONSTANTS AND FILES\n",
    "\n",
    "# FRAME RATE\n",
    "HZ = 35.22\n",
    "\n",
    "# PIXEL VALUE IN REAL WORLD MEASUREMENTS\n",
    "PX = .2\n",
    "\n",
    "\n",
    "# PATH TO MOIVE FILE\n",
    "FILE = '/mnt/5404b8a5-71b7-4464-9a1e-b40cd26fac58/Data_Drive/GluSnFr3_Project/GluSnfr3_210205/PDGFR/neuron-1/arbor scan-1/neuron-1_16 stim-1_00001-35.22hz.tif'\n",
    "\n",
    "# CSV FOR STIM TIME\n",
    "STIM_FILE = '/mnt/5404b8a5-71b7-4464-9a1e-b40cd26fac58/Data_Drive/GluSnFr3_Project/GluSnfr3_210205/PDGFR/neuron-1/arbor scan-1/StimOutput02-05-2021 16-19.csv'\n",
    "MOVIE = tifffile.imread(FILE)\n",
    "print(MOVIE.shape)\n",
    "if STIM_FILE is not None:\n",
    "    STIM_LIST = returnStimList(STIM_FILE)"
   ]
  },
  {
   "cell_type": "code",
   "execution_count": null,
   "metadata": {},
   "outputs": [],
   "source": [
    "print(np.min(MOVIE), np.max(MOVIE))\n",
    "MOVIE = returnOffsetCorr(MOVIE)\n",
    "print(np.min(MOVIE), np.max(MOVIE))\n",
    "# VIEW THE MOVIE\n",
    "viewer = napari.Viewer()\n",
    "viewer.add_image(MOVIE)"
   ]
  },
  {
   "cell_type": "code",
   "execution_count": null,
   "metadata": {},
   "outputs": [],
   "source": [
    "# SMOOTH TO HELP STABILIZE IT\n",
    "smooth_movie = np.zeros(MOVIE.shape)\n",
    "for i in trange(MOVIE.shape[0]):\n",
    "    smooth_movie[i,:,:] = denoise_tv_chambolle(MOVIE[i,:,:], weight=.0005)\n",
    "\n",
    "viewer = napari.Viewer()\n",
    "viewer.add_image(smooth_movie)"
   ]
  },
  {
   "cell_type": "code",
   "execution_count": null,
   "metadata": {},
   "outputs": [],
   "source": [
    "# CODE TO STABALIZE THE IMAGE USING PHASE CORRELATION\n",
    "\n",
    "Stable_Image = np.zeros(MOVIE.shape)\n",
    "Stable_Image[0, : : ] = MOVIE[0, :, :]\n",
    "\n",
    "# COMPARES FRAMES AND CALCULATES THE DRIFT\n",
    "for i in trange(MOVIE.shape[0]-1):\n",
    "    shift, error, diffphase = phase_cross_correlation(smooth_movie[i, :,:], smooth_movie[(i+1),:,:], upsample_factor=100)\n",
    "    # IF THE SHIFT IS GREATE THAN ZERO PIXELS APPLY A SHIFT TO THE ARRAY\n",
    "    if (shift[0]> 0) or (shift[1] > 0):\n",
    "        shifted_frame = ndi.interpolation.shift(MOVIE[(i+1),:,:], shift)\n",
    "        Stable_Image[i+1, :,:] = shifted_frame\n",
    "    else:\n",
    "        Stable_Image[i+1, :,:] = MOVIE[(i+1),:,:]"
   ]
  },
  {
   "cell_type": "code",
   "execution_count": null,
   "metadata": {},
   "outputs": [],
   "source": [
    "# VIEW THE MOVIE, DETERMINE THE LAST FRAME BEFORE DRIFT IS TOO CRAZY\n",
    "viewer = napari.Viewer()\n",
    "viewer.add_image(Stable_Image)"
   ]
  },
  {
   "cell_type": "code",
   "execution_count": null,
   "metadata": {},
   "outputs": [],
   "source": [
    "# MANUALLY SET THE FRAMES TO PROCESS \n",
    "# SET AN INT FOR THE FIRST FRAME\n",
    "FIRST_FRAME = 0\n",
    "\n",
    "# SET AN INT FOR THE LAST FRAME\n",
    "LAST_FRAME = 3000\n",
    "\n",
    "stable = Stable_Image[FIRST_FRAME:LAST_FRAME,:,:]\n",
    "viewer = napari.Viewer()\n",
    "viewer.add_image(stable)\n",
    "\n",
    "if STIM_FILE is not None:\n",
    "    stim2plot = []\n",
    "    for stim in STIM_LIST:\n",
    "        if (FIRST_FRAME/HZ) <= stim <= (LAST_FRAME/HZ):\n",
    "            stim2plot.append(stim - (FIRST_FRAME/HZ))"
   ]
  },
  {
   "cell_type": "code",
   "execution_count": null,
   "metadata": {},
   "outputs": [],
   "source": [
    "DENDRITE = np.std(stable, axis=0)\n",
    "plt.imshow(DENDRITE)"
   ]
  },
  {
   "cell_type": "code",
   "execution_count": null,
   "metadata": {},
   "outputs": [],
   "source": [
    "# PAINT THE ROI IN THE NAPARI WINDOW\n",
    "ROI = np.zeros(DENDRITE.shape)\n",
    "roi_painter = napari.Viewer()\n",
    "roi_painter.add_image(DENDRITE)\n",
    "roi_painter.add_labels(ROI)\n"
   ]
  },
  {
   "cell_type": "code",
   "execution_count": null,
   "metadata": {},
   "outputs": [],
   "source": [
    "# DISPLAY THE IMAGING AREA AND ROIs\n",
    "plt.imshow(DENDRITE)\n",
    "ROI_LABLES = np.unique(ROI)\n",
    "print(ROI_LABLES)\n",
    "for roi in ROI_LABLES:\n",
    "    if roi > 0:\n",
    "        mask = ROI.copy()\n",
    "        mask[mask!=roi] = np.nan      \n",
    "        plt.imshow(mask, cmap='rainbow')"
   ]
  },
  {
   "cell_type": "code",
   "execution_count": null,
   "metadata": {},
   "outputs": [],
   "source": [
    "# Calculte the DFF for each ROI and save it to a dict\n",
    "\n",
    "ROI_LABLES = np.unique(ROI)\n",
    "raw_dict = {}\n",
    "dff_dict = {}\n",
    "for roi in ROI_LABLES:\n",
    "    if roi > 0:\n",
    "        mask = ROI.copy()\n",
    "        mask[mask!=roi] = 0\n",
    "        mask[mask!=0] = 1\n",
    "        \n",
    "        # Return the average intensity value for the roi\n",
    "        roi_trace = returnROITrace(stable, mask)\n",
    "        \n",
    "        # Added the trace a to dictionary\n",
    "        raw_dict[roi] = roi_trace\n",
    "        \n",
    "        # Remove shot noise\n",
    "        roi_trace = pnf.okada(roi_trace)\n",
    "        \n",
    "        # Calculate Df/F\n",
    "        roi_trace = pnf.deltaFOverF0(roi_trace, HZ, None)\n",
    "        dff_dict[roi] = roi_trace"
   ]
  },
  {
   "cell_type": "code",
   "execution_count": null,
   "metadata": {},
   "outputs": [],
   "source": [
    "rainbow = cm.get_cmap('rainbow', len(ROI_LABLES))\n",
    "time = np.arange(stable.shape[0])/HZ\n",
    "\n",
    "fig2, ax1 = plt.subplots()\n",
    "ax1.axis(\"off\")\n",
    "scalebar = sb.ScaleBar(\n",
    "    0.08,\n",
    "    \"um\",\n",
    "    box_color =None,\n",
    "    box_alpha=0,\n",
    "    length_fraction=0.1,\n",
    "    scale_loc=\"bottom\",\n",
    "    border_pad=1,\n",
    "    pad=.5\n",
    ")\n",
    "ax1.add_artist(scalebar)\n",
    "\n",
    "fig, axs = plt.subplots((len(ROI_LABLES)-1), sharex=True,sharey=True, )\n",
    "fig.tight_layout()\n",
    "fig.text(-0.05,0.5, \"ΔF/F\", ha=\"center\", va=\"center\", rotation=90, fontsize=18)\n",
    "ax1.imshow(DENDRITE)\n",
    "for roi in ROI_LABLES:\n",
    "    if roi > 0:\n",
    "        mask = ROI.copy()\n",
    "        mask[mask!=roi] = 0\n",
    "        mask[mask!=0] = 1\n",
    "        com = ndi.measurements.center_of_mass(mask)\n",
    "        contour = measure.find_contours(mask, .3)\n",
    "        ax1.plot(contour[0][:, 1],contour[0][:, 0], linewidth=2, color=rainbow(roi/ROI_LABLES.max()))\n",
    "        ax1.text(com[1],com[0], s=str(int(roi)), color='white')\n",
    "        \n",
    "        \n",
    "        axs[int(roi)-1].plot(time, dff_dict[roi], color=rainbow(roi/ROI_LABLES.max()))\n",
    "        axs[int(roi)-1].set_xlim([0,np.max(time)])\n",
    "        if STIM_FILE is not None:\n",
    "            for stim in stim2plot:\n",
    "                axs[int(roi)-1].axvline(x=(stim), ls='--', color='grey')\n",
    "        axs[int(roi)-1].set_ylabel(str(int(roi)),  fontsize=12)        \n",
    "        axs[int(roi)-1].spines['top'].set_visible(False)\n",
    "        axs[int(roi)-1].spines['right'].set_visible(False)\n",
    "        axs[int(roi)-1].spines['bottom'].set_visible(False)\n",
    "        axs[int(roi)-1].spines['left'].set_visible(False)\n",
    "        if int(roi) == (len(ROI_LABLES)-1):\n",
    "            axs[int(roi)-1].set_xlabel('Seconds',  fontsize=14)\n",
    "        else:\n",
    "            axs[int(roi)-1].xaxis.set_ticks_position('none')\n",
    "\n",
    "plt.subplots_adjust(wspace=0, hspace=0)"
   ]
  },
  {
   "cell_type": "code",
   "execution_count": null,
   "metadata": {},
   "outputs": [],
   "source": []
  }
 ],
 "metadata": {
  "kernelspec": {
   "display_name": "Python 3",
   "language": "python",
   "name": "python3"
  },
  "language_info": {
   "codemirror_mode": {
    "name": "ipython",
    "version": 3
   },
   "file_extension": ".py",
   "mimetype": "text/x-python",
   "name": "python",
   "nbconvert_exporter": "python",
   "pygments_lexer": "ipython3",
   "version": "3.6.9"
  }
 },
 "nbformat": 4,
 "nbformat_minor": 4
}
